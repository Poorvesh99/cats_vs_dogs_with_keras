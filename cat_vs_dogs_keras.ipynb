{
 "cells": [
  {
   "cell_type": "code",
   "execution_count": 27,
   "id": "3e2f60b5-630c-42a9-9745-dd3a08bc7b9c",
   "metadata": {},
   "outputs": [],
   "source": [
    "import tensorflow as tf\n",
    "import numpy as np\n",
    "import tensorflow_datasets as tfds"
   ]
  },
  {
   "cell_type": "code",
   "execution_count": 28,
   "id": "fff894e1-ce6f-462c-afb6-20ea34a0de31",
   "metadata": {},
   "outputs": [],
   "source": [
    "data_dir = \"/mnt/e/Work_Area/aiml/cat_vs_dogs_with_tensorflow\"\n",
    "ds, ds_info = tfds.load(name='cats_vs_dogs',\n",
    "          split= 'train',\n",
    "          shuffle_files=True, \n",
    "          data_dir=data_dir,as_supervised=True,\n",
    "          with_info=True,\n",
    "          download=True)"
   ]
  },
  {
   "cell_type": "code",
   "execution_count": 29,
   "id": "56bab91f-bd09-403a-896e-8132886b64cd",
   "metadata": {},
   "outputs": [
    {
     "data": {
      "text/plain": [
       "tfds.core.DatasetInfo(\n",
       "    name='cats_vs_dogs',\n",
       "    full_name='cats_vs_dogs/4.0.1',\n",
       "    description=\"\"\"\n",
       "    A large set of images of cats and dogs. There are 1738 corrupted images that are dropped.\n",
       "    \"\"\",\n",
       "    homepage='https://www.microsoft.com/en-us/download/details.aspx?id=54765',\n",
       "    data_dir='/mnt/e/Work_Area/aiml/cat_vs_dogs_with_tensorflow/cats_vs_dogs/4.0.1',\n",
       "    file_format=tfrecord,\n",
       "    download_size=Unknown size,\n",
       "    dataset_size=1.04 GiB,\n",
       "    features=FeaturesDict({\n",
       "        'image': Image(shape=(None, None, 3), dtype=uint8),\n",
       "        'image/filename': Text(shape=(), dtype=string),\n",
       "        'label': ClassLabel(shape=(), dtype=int64, num_classes=2),\n",
       "    }),\n",
       "    supervised_keys=('image', 'label'),\n",
       "    disable_shuffling=False,\n",
       "    splits={\n",
       "        'train': <SplitInfo num_examples=23262, num_shards=16>,\n",
       "    },\n",
       "    citation=\"\"\"@Inproceedings (Conference){asirra-a-captcha-that-exploits-interest-aligned-manual-image-categorization,\n",
       "    author = {Elson, Jeremy and Douceur, John (JD) and Howell, Jon and Saul, Jared},\n",
       "    title = {Asirra: A CAPTCHA that Exploits Interest-Aligned Manual Image Categorization},\n",
       "    booktitle = {Proceedings of 14th ACM Conference on Computer and Communications Security (CCS)},\n",
       "    year = {2007},\n",
       "    month = {October},\n",
       "    publisher = {Association for Computing Machinery, Inc.},\n",
       "    url = {https://www.microsoft.com/en-us/research/publication/asirra-a-captcha-that-exploits-interest-aligned-manual-image-categorization/},\n",
       "    edition = {Proceedings of 14th ACM Conference on Computer and Communications Security (CCS)},\n",
       "    }\"\"\",\n",
       ")"
      ]
     },
     "execution_count": 29,
     "metadata": {},
     "output_type": "execute_result"
    }
   ],
   "source": [
    "ds_info"
   ]
  },
  {
   "cell_type": "code",
   "execution_count": 34,
   "id": "db6000c4-7b8f-49a0-b201-b733159edd95",
   "metadata": {},
   "outputs": [],
   "source": [
    "def normalize(image , label):\n",
    "    image = tf.image.resize(image, [224, 224])\n",
    "    image = tf.cast(image, tf.float32) /255\n",
    "    \n",
    "    return image, label"
   ]
  },
  {
   "cell_type": "code",
   "execution_count": 35,
   "id": "c2b9d6ec-77d5-48ec-a83a-76f633aa9610",
   "metadata": {},
   "outputs": [],
   "source": [
    "train  = ds.map(normalize)"
   ]
  },
  {
   "cell_type": "code",
   "execution_count": 36,
   "id": "3eba1143-4023-4081-871a-81e12a2ddf37",
   "metadata": {},
   "outputs": [],
   "source": [
    "train = train.batch(64)"
   ]
  },
  {
   "cell_type": "code",
   "execution_count": 44,
   "id": "a3e2e260-4092-45dd-8fc4-cc7cb1175e70",
   "metadata": {},
   "outputs": [],
   "source": [
    "def create_model():\n",
    "    model = tf.keras.models.Sequential([\n",
    "        tf.keras.Input(shape=(224,224,3)),\n",
    "        tf.keras.layers.Conv2D(32, 3, activation='relu'),\n",
    "        tf.keras.layers.Flatten(),\n",
    "        tf.keras.layers.Dense(12, activation='relu'),\n",
    "        tf.keras.layers.Dense(2, activation='sigmoid')     \n",
    "    ])\n",
    "    return model"
   ]
  },
  {
   "cell_type": "code",
   "execution_count": 45,
   "id": "bd734ce5-dbab-47b2-9851-3b54d4c4d3b2",
   "metadata": {},
   "outputs": [],
   "source": [
    "model = create_model()"
   ]
  },
  {
   "cell_type": "code",
   "execution_count": 51,
   "id": "77360556-7955-4738-a680-8476c4b2a885",
   "metadata": {},
   "outputs": [],
   "source": [
    "model.compile(\n",
    "    optimizer=tf.keras.optimizers.Adam(learning_rate=0.001),\n",
    "    loss=tf.keras.losses.SparseCategoricalCrossentropy(),\n",
    "    metrics=['accuracy']\n",
    ")"
   ]
  },
  {
   "cell_type": "code",
   "execution_count": 53,
   "id": "446bc4aa-dff5-426e-9354-d3c68785f6d9",
   "metadata": {},
   "outputs": [
    {
     "name": "stdout",
     "output_type": "stream",
     "text": [
      "Epoch 1/10\n",
      "364/364 - 102s - 281ms/step - accuracy: 0.6608 - loss: 1.0099\n",
      "Epoch 2/10\n",
      "364/364 - 104s - 286ms/step - accuracy: 0.7979 - loss: 0.4404\n",
      "Epoch 3/10\n",
      "364/364 - 104s - 286ms/step - accuracy: 0.8859 - loss: 0.2855\n",
      "Epoch 4/10\n",
      "364/364 - 105s - 289ms/step - accuracy: 0.9416 - loss: 0.1697\n",
      "Epoch 5/10\n",
      "364/364 - 113s - 311ms/step - accuracy: 0.9644 - loss: 0.1098\n",
      "Epoch 6/10\n",
      "364/364 - 141s - 387ms/step - accuracy: 0.9752 - loss: 0.0758\n",
      "Epoch 7/10\n",
      "364/364 - 114s - 314ms/step - accuracy: 0.9782 - loss: 0.0621\n",
      "Epoch 8/10\n",
      "364/364 - 115s - 317ms/step - accuracy: 0.9886 - loss: 0.0403\n",
      "Epoch 9/10\n",
      "364/364 - 114s - 313ms/step - accuracy: 0.9908 - loss: 0.0386\n",
      "Epoch 10/10\n",
      "364/364 - 115s - 316ms/step - accuracy: 0.9913 - loss: 0.0334\n"
     ]
    },
    {
     "data": {
      "text/plain": [
       "<keras.src.callbacks.history.History at 0x7faff42d2260>"
      ]
     },
     "execution_count": 53,
     "metadata": {},
     "output_type": "execute_result"
    }
   ],
   "source": [
    "model.fit(train, epochs=10, verbose=2)"
   ]
  },
  {
   "cell_type": "code",
   "execution_count": 54,
   "id": "3f4acd6d-9c11-483b-8f7e-99b6820d0883",
   "metadata": {},
   "outputs": [],
   "source": [
    "model.save('keras_model.keras')"
   ]
  },
  {
   "cell_type": "code",
   "execution_count": 85,
   "id": "7d8d0b1f-afb0-4307-a54e-29c1a856342b",
   "metadata": {},
   "outputs": [],
   "source": [
    "example = train.take(1)"
   ]
  },
  {
   "cell_type": "code",
   "execution_count": 88,
   "id": "9d3865db-bd7a-4e87-b8e9-57314bcd29d8",
   "metadata": {},
   "outputs": [
    {
     "name": "stdout",
     "output_type": "stream",
     "text": [
      "\u001b[1m2/2\u001b[0m \u001b[32m━━━━━━━━━━━━━━━━━━━━\u001b[0m\u001b[37m\u001b[0m \u001b[1m0s\u001b[0m 37ms/step\n",
      "tf.Tensor(\n",
      "[0 1 1 0 1 0 0 1 0 0 0 1 1 1 0 1 0 0 0 0 1 0 1 0 1 0 0 1 1 0 1 1 1 1 0 0 0\n",
      " 0 0 0 1 1 1 1 1 1 1 1 0 1 1 0 0 1 1 1 0 0 1 0 0 1 0 1], shape=(64,), dtype=int64)\n",
      "tf.Tensor(\n",
      "[0 1 1 0 1 0 0 1 0 0 0 1 1 1 0 1 0 0 0 0 1 0 1 0 1 0 0 1 1 0 1 1 1 1 0 0 0\n",
      " 0 0 0 1 1 1 1 1 1 1 1 0 1 1 0 0 1 1 1 0 0 1 0 0 1 0 1], shape=(64,), dtype=int64)\n"
     ]
    }
   ],
   "source": [
    "for ex, label in example:\n",
    "    ans = model.predict(ex)\n",
    "    print(tf.argmax(ans, axis=-1))\n",
    "    print(label)\n",
    "    \n",
    "    "
   ]
  },
  {
   "cell_type": "code",
   "execution_count": null,
   "id": "c668278b-5363-4610-840d-69ddd79976d7",
   "metadata": {},
   "outputs": [],
   "source": []
  }
 ],
 "metadata": {
  "kernelspec": {
   "display_name": "Python 3 (ipykernel)",
   "language": "python",
   "name": "python3"
  },
  "language_info": {
   "codemirror_mode": {
    "name": "ipython",
    "version": 3
   },
   "file_extension": ".py",
   "mimetype": "text/x-python",
   "name": "python",
   "nbconvert_exporter": "python",
   "pygments_lexer": "ipython3",
   "version": "3.10.12"
  }
 },
 "nbformat": 4,
 "nbformat_minor": 5
}
